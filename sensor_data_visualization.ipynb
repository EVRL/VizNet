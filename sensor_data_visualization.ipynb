{
 "cells": [
  {
   "cell_type": "markdown",
   "metadata": {},
   "source": [
    "# Sensor Data Final ver02"
   ]
  },
  {
   "cell_type": "code",
   "execution_count": 1,
   "metadata": {
    "collapsed": false
   },
   "outputs": [],
   "source": [
    "import numpy as np\n",
    "from pandas import Series, DataFrame\n",
    "import pandas as pd\n",
    "from pandas.tools.plotting import parallel_coordinates\n",
    "import operator\n",
    "import matplotlib.pyplot as plt\n",
    "from matplotlib import style\n",
    "style.use('ggplot')\n",
    "#plt.style.use('ggplot')\n",
    "#%matplotlib inline\n"
   ]
  },
  {
   "cell_type": "markdown",
   "metadata": {},
   "source": [
    "## Wireshark Data"
   ]
  },
  {
   "cell_type": "code",
   "execution_count": 2,
   "metadata": {
    "collapsed": false
   },
   "outputs": [
    {
     "data": {
      "text/html": [
       "<div>\n",
       "<table border=\"1\" class=\"dataframe\">\n",
       "  <thead>\n",
       "    <tr style=\"text-align: right;\">\n",
       "      <th></th>\n",
       "      <th>No.</th>\n",
       "      <th>Time</th>\n",
       "      <th>Source</th>\n",
       "      <th>Destination</th>\n",
       "      <th>Protocol</th>\n",
       "      <th>Length</th>\n",
       "      <th>Source Port</th>\n",
       "      <th>Dest Port</th>\n",
       "    </tr>\n",
       "    <tr>\n",
       "      <th>Time</th>\n",
       "      <th></th>\n",
       "      <th></th>\n",
       "      <th></th>\n",
       "      <th></th>\n",
       "      <th></th>\n",
       "      <th></th>\n",
       "      <th></th>\n",
       "      <th></th>\n",
       "    </tr>\n",
       "  </thead>\n",
       "  <tbody>\n",
       "    <tr>\n",
       "      <th>2016-05-12 04:03:31.844865</th>\n",
       "      <td>1</td>\n",
       "      <td>2016-05-12 04:03:31.844865</td>\n",
       "      <td>fe80::cd08:1cb2:ac23:6866</td>\n",
       "      <td>ff02::1:2</td>\n",
       "      <td>DHCPv6</td>\n",
       "      <td>157</td>\n",
       "      <td>546.0</td>\n",
       "      <td>547.0</td>\n",
       "    </tr>\n",
       "    <tr>\n",
       "      <th>2016-05-12 04:03:32.048667</th>\n",
       "      <td>2</td>\n",
       "      <td>2016-05-12 04:03:32.048667</td>\n",
       "      <td>192.168.1.114</td>\n",
       "      <td>Broadcast</td>\n",
       "      <td>ARP</td>\n",
       "      <td>42</td>\n",
       "      <td>NaN</td>\n",
       "      <td>NaN</td>\n",
       "    </tr>\n",
       "    <tr>\n",
       "      <th>2016-05-12 04:03:33.893024</th>\n",
       "      <td>3</td>\n",
       "      <td>2016-05-12 04:03:33.893024</td>\n",
       "      <td>fe80::cd08:1cb2:ac23:6866</td>\n",
       "      <td>ff02::1:2</td>\n",
       "      <td>DHCPv6</td>\n",
       "      <td>157</td>\n",
       "      <td>546.0</td>\n",
       "      <td>547.0</td>\n",
       "    </tr>\n",
       "    <tr>\n",
       "      <th>2016-05-12 04:03:37.886484</th>\n",
       "      <td>4</td>\n",
       "      <td>2016-05-12 04:03:37.886484</td>\n",
       "      <td>fe80::cd08:1cb2:ac23:6866</td>\n",
       "      <td>ff02::1:2</td>\n",
       "      <td>DHCPv6</td>\n",
       "      <td>157</td>\n",
       "      <td>546.0</td>\n",
       "      <td>547.0</td>\n",
       "    </tr>\n",
       "    <tr>\n",
       "      <th>2016-05-12 04:03:40.855326</th>\n",
       "      <td>5</td>\n",
       "      <td>2016-05-12 04:03:40.855326</td>\n",
       "      <td>192.168.1.106</td>\n",
       "      <td>Broadcast</td>\n",
       "      <td>ARP</td>\n",
       "      <td>60</td>\n",
       "      <td>NaN</td>\n",
       "      <td>NaN</td>\n",
       "    </tr>\n",
       "  </tbody>\n",
       "</table>\n",
       "</div>"
      ],
      "text/plain": [
       "                            No.                       Time  \\\n",
       "Time                                                         \n",
       "2016-05-12 04:03:31.844865    1 2016-05-12 04:03:31.844865   \n",
       "2016-05-12 04:03:32.048667    2 2016-05-12 04:03:32.048667   \n",
       "2016-05-12 04:03:33.893024    3 2016-05-12 04:03:33.893024   \n",
       "2016-05-12 04:03:37.886484    4 2016-05-12 04:03:37.886484   \n",
       "2016-05-12 04:03:40.855326    5 2016-05-12 04:03:40.855326   \n",
       "\n",
       "                                               Source Destination Protocol  \\\n",
       "Time                                                                         \n",
       "2016-05-12 04:03:31.844865  fe80::cd08:1cb2:ac23:6866   ff02::1:2   DHCPv6   \n",
       "2016-05-12 04:03:32.048667              192.168.1.114   Broadcast      ARP   \n",
       "2016-05-12 04:03:33.893024  fe80::cd08:1cb2:ac23:6866   ff02::1:2   DHCPv6   \n",
       "2016-05-12 04:03:37.886484  fe80::cd08:1cb2:ac23:6866   ff02::1:2   DHCPv6   \n",
       "2016-05-12 04:03:40.855326              192.168.1.106   Broadcast      ARP   \n",
       "\n",
       "                            Length  Source Port  Dest Port  \n",
       "Time                                                        \n",
       "2016-05-12 04:03:31.844865     157        546.0      547.0  \n",
       "2016-05-12 04:03:32.048667      42          NaN        NaN  \n",
       "2016-05-12 04:03:33.893024     157        546.0      547.0  \n",
       "2016-05-12 04:03:37.886484     157        546.0      547.0  \n",
       "2016-05-12 04:03:40.855326      60          NaN        NaN  "
      ]
     },
     "execution_count": 2,
     "metadata": {},
     "output_type": "execute_result"
    }
   ],
   "source": [
    "data = pd.read_csv('sensordata.csv',parse_dates=['Time'])\n",
    "data2 = data.set_index('Time',drop=False)\n",
    "data2.head(5)"
   ]
  },
  {
   "cell_type": "code",
   "execution_count": 3,
   "metadata": {
    "collapsed": false
   },
   "outputs": [],
   "source": [
    "dest = pd.DataFrame(data2.Destination)\n",
    "proto = pd.DataFrame(data2.Protocol)"
   ]
  },
  {
   "cell_type": "code",
   "execution_count": 4,
   "metadata": {
    "collapsed": false
   },
   "outputs": [],
   "source": [
    "# Make a column of ones and attach to both destination and protocol dataframes\n",
    "onez = pd.DataFrame(np.ones(len(data2.Destination)), index=dest.index)\n",
    "onez.columns = ['count']\n",
    "destcount = dest.join(onez)\n",
    "protocount = proto.join(onez)"
   ]
  },
  {
   "cell_type": "code",
   "execution_count": 5,
   "metadata": {
    "collapsed": false
   },
   "outputs": [],
   "source": [
    "destpvt = pd.pivot_table(destcount, values='count', index=destcount.index, columns='Destination').fillna(0)\n",
    "protopvt = pd.pivot_table(protocount, values='count', index=protocount.index, columns='Protocol').fillna(0)\n",
    "destpvt = destpvt.resample('5s', closed='left').sum().fillna(0)\n",
    "protopvt = protopvt.resample('5s', closed='left').sum().fillna(0)"
   ]
  },
  {
   "cell_type": "code",
   "execution_count": 6,
   "metadata": {
    "collapsed": false
   },
   "outputs": [
    {
     "data": {
      "text/plain": [
       "<matplotlib.legend.Legend at 0x10715ec90>"
      ]
     },
     "execution_count": 6,
     "metadata": {},
     "output_type": "execute_result"
    }
   ],
   "source": [
    "destpvt.plot.area(figsize=(20,10)).legend(loc='upper left',ncol=3)"
   ]
  },
  {
   "cell_type": "code",
   "execution_count": 7,
   "metadata": {
    "collapsed": false,
    "scrolled": false
   },
   "outputs": [
    {
     "data": {
      "text/plain": [
       "<matplotlib.legend.Legend at 0x103ebbfd0>"
      ]
     },
     "execution_count": 7,
     "metadata": {},
     "output_type": "execute_result"
    }
   ],
   "source": [
    "protopvt.plot.area(figsize=(20,10)).legend(loc='upper left',ncol=4)"
   ]
  },
  {
   "cell_type": "code",
   "execution_count": 8,
   "metadata": {
    "collapsed": false
   },
   "outputs": [],
   "source": [
    "temp = list(data2.Destination.value_counts().head(10).index)"
   ]
  },
  {
   "cell_type": "code",
   "execution_count": 9,
   "metadata": {
    "collapsed": false
   },
   "outputs": [],
   "source": [
    "top10_pvt = destpvt.filter(temp)"
   ]
  },
  {
   "cell_type": "code",
   "execution_count": 10,
   "metadata": {
    "collapsed": false
   },
   "outputs": [
    {
     "data": {
      "text/plain": [
       "<matplotlib.legend.Legend at 0x10715e990>"
      ]
     },
     "execution_count": 10,
     "metadata": {},
     "output_type": "execute_result"
    }
   ],
   "source": [
    "top10_pvt.plot.area(figsize=(20,10)).legend(loc='upper left',ncol=4)"
   ]
  },
  {
   "cell_type": "markdown",
   "metadata": {},
   "source": [
    "### The cell below filters out the top 2 destination IP addresses which correspond to the sensor IP and the SSH computer. The new graph does not reveal much information."
   ]
  },
  {
   "cell_type": "code",
   "execution_count": 11,
   "metadata": {
    "collapsed": false
   },
   "outputs": [
    {
     "data": {
      "text/plain": [
       "<matplotlib.legend.Legend at 0x11a904510>"
      ]
     },
     "execution_count": 11,
     "metadata": {},
     "output_type": "execute_result"
    }
   ],
   "source": [
    "temp2 = list(data2.Destination.value_counts().head(10).index)\n",
    "pvt_minus_max2 = destpvt.filter(temp2[2:])\n",
    "pvt_minus_max2.plot.area(figsize=(20,10)).legend(loc='upper left',ncol=3)"
   ]
  },
  {
   "cell_type": "markdown",
   "metadata": {},
   "source": [
    "The cell below plots traffic from the top destination IP address"
   ]
  },
  {
   "cell_type": "code",
   "execution_count": null,
   "metadata": {
    "collapsed": false
   },
   "outputs": [
    {
     "data": {
      "text/plain": [
       "(<matplotlib.legend.Legend at 0x11aea31d0>,\n",
       " <matplotlib.legend.Legend at 0x11af480d0>)"
      ]
     },
     "execution_count": 12,
     "metadata": {},
     "output_type": "execute_result"
    }
   ],
   "source": [
    "pvt_sensor= destpvt.filter(temp2[:1])\n",
    "pvt_sensor.plot.area(figsize=(5,5)).legend(loc='upper left'), pvt_sensor.plot.area(figsize=(5,5)).legend(loc='upper left') "
   ]
  },
  {
   "cell_type": "code",
   "execution_count": null,
   "metadata": {
    "collapsed": true
   },
   "outputs": [],
   "source": [
    "plt.show()"
   ]
  }
 ],
 "metadata": {
  "kernelspec": {
   "display_name": "Python 2",
   "language": "python",
   "name": "python2"
  },
  "language_info": {
   "codemirror_mode": {
    "name": "ipython",
    "version": 2
   },
   "file_extension": ".py",
   "mimetype": "text/x-python",
   "name": "python",
   "nbconvert_exporter": "python",
   "pygments_lexer": "ipython2",
   "version": "2.7.13"
  }
 },
 "nbformat": 4,
 "nbformat_minor": 0
}
